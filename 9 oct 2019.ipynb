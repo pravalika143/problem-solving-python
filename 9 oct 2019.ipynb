{
 "cells": [
  {
   "cell_type": "markdown",
   "metadata": {},
   "source": [
    "# Date:9 oct 2019\n",
    "\n"
   ]
  },
  {
   "cell_type": "code",
   "execution_count": null,
   "metadata": {},
   "outputs": [],
   "source": []
  },
  {
   "cell_type": "code",
   "execution_count": 2,
   "metadata": {},
   "outputs": [
    {
     "ename": "NameError",
     "evalue": "name 'encryptedata' is not defined",
     "output_type": "error",
     "traceback": [
      "\u001b[1;31m---------------------------------------------------------------------------\u001b[0m",
      "\u001b[1;31mNameError\u001b[0m                                 Traceback (most recent call last)",
      "\u001b[1;32m<ipython-input-2-e4a63b92de31>\u001b[0m in \u001b[0;36m<module>\u001b[1;34m\u001b[0m\n\u001b[1;32m----> 1\u001b[1;33m \u001b[0minputdata\u001b[0m\u001b[1;33m=\u001b[0m\u001b[0mencryptedata\u001b[0m\u001b[1;33m\u001b[0m\u001b[1;33m\u001b[0m\u001b[0m\n\u001b[0m\u001b[0;32m      2\u001b[0m \u001b[0moriginaldata\u001b[0m\u001b[1;33m=\u001b[0m\u001b[1;34m\"\"\u001b[0m\u001b[1;33m\u001b[0m\u001b[1;33m\u001b[0m\u001b[0m\n\u001b[0;32m      3\u001b[0m \u001b[1;32mfor\u001b[0m \u001b[0mchar\u001b[0m \u001b[1;32min\u001b[0m \u001b[0minputdata\u001b[0m\u001b[1;33m:\u001b[0m\u001b[1;33m\u001b[0m\u001b[1;33m\u001b[0m\u001b[0m\n\u001b[0;32m      4\u001b[0m     \u001b[0moriginaldata\u001b[0m\u001b[1;33m+=\u001b[0m\u001b[0mchr\u001b[0m\u001b[1;33m(\u001b[0m\u001b[0mord\u001b[0m\u001b[1;33m(\u001b[0m\u001b[0mchar\u001b[0m\u001b[1;33m)\u001b[0m\u001b[1;33m-\u001b[0m\u001b[1;36m2\u001b[0m\u001b[1;33m)\u001b[0m\u001b[1;33m\u001b[0m\u001b[1;33m\u001b[0m\u001b[0m\n\u001b[0;32m      5\u001b[0m \u001b[0moriginaldata\u001b[0m\u001b[1;33m\u001b[0m\u001b[1;33m\u001b[0m\u001b[0m\n",
      "\u001b[1;31mNameError\u001b[0m: name 'encryptedata' is not defined"
     ]
    }
   ],
   "source": [
    "inputdata=encryptedata\n",
    "originaldata=\"\"\n",
    "for char in inputdata:\n",
    "    originaldata+=chr(ord(char)-2)\n",
    "originaldat"
   ]
  },
  {
   "cell_type": "code",
   "execution_count": 16,
   "metadata": {},
   "outputs": [],
   "source": [
    "# function to generate key to encrypt data\n",
    "def generatekey(keypath):\n",
    "    with open(keypath,\"w\") as f:\n",
    "        for i in range(10):\n",
    "            if i<6:\n",
    "                f.write(str(i)+\" \"+str(i+4)+\"\\n\")\n",
    "            else:\n",
    "                f.write(str(i)+\" \"+str(i-6)+\"\\n\")\n",
    "        return\n",
    "keypath=\"datafiles/key.txt\"\n",
    "generatekey(keypath)"
   ]
  },
  {
   "cell_type": "code",
   "execution_count": 33,
   "metadata": {},
   "outputs": [
    {
     "data": {
      "text/plain": [
       "{'0': '4',\n",
       " '1': '5',\n",
       " '2': '6',\n",
       " '3': '7',\n",
       " '4': '8',\n",
       " '5': '9',\n",
       " '6': '0',\n",
       " '7': '1',\n",
       " '8': '2',\n",
       " '9': '3'}"
      ]
     },
     "execution_count": 33,
     "metadata": {},
     "output_type": "execute_result"
    }
   ],
   "source": [
    "def dictkeyfile(keyfile):\n",
    "    key={}\n",
    "    with open(keyfile,\"r\") as f:\n",
    "        for line in f:\n",
    "            line=line.split()\n",
    "            key[line[0]]=line[1]\n",
    "           # print(line)\n",
    "    return key\n",
    "keyfile=\"datafiles/key.txt\"\n",
    "k=dictkeyfile(keyfile)\n",
    "k"
   ]
  },
  {
   "cell_type": "code",
   "execution_count": 34,
   "metadata": {},
   "outputs": [
    {
     "name": "stdout",
     "output_type": "stream",
     "text": [
      "m 67\n",
      "m 45\n",
      "m 89\n",
      "m 32\n",
      "m 41\n"
     ]
    }
   ],
   "source": [
    "#function to \n",
    "def encryptmarksMarksData(datafiles,keyfile):\n",
    "    key=dictkeyfile(keyfile)\n",
    "    with open(datafiles,\"r\") as f:\n",
    "        filedata=f.read().split(\"\\n\")\n",
    "        print(filedata)\n",
    "    with open(\"datafiles/encryptedmarks.txt\",\"w\") as f:\n",
    "        for mark in filedata:\n",
    "            print(\"m\",mark)\n",
    "            line=\"\"\n",
    "            for digit in mark:\n",
    "                print(\"d\",digit)\n",
    "                line+=key[digit]\n",
    "            f.write(line+\"\\n\")\n",
    "        return\n",
    "\n",
    "datafile=\"datafiles/marks.txt\"\n",
    "keyfile=\"datafiles/key.txt\"\n",
    "encrytmarksMarksData(datafile,keyfile)"
   ]
  },
  {
   "cell_type": "code",
   "execution_count": 51,
   "metadata": {},
   "outputs": [
    {
     "ename": "KeyError",
     "evalue": "'\\n'",
     "output_type": "error",
     "traceback": [
      "\u001b[1;31m---------------------------------------------------------------------------\u001b[0m",
      "\u001b[1;31mKeyError\u001b[0m                                  Traceback (most recent call last)",
      "\u001b[1;32m<ipython-input-51-ed7e552115eb>\u001b[0m in \u001b[0;36m<module>\u001b[1;34m\u001b[0m\n\u001b[0;32m     20\u001b[0m \u001b[0mencryptedfile\u001b[0m\u001b[1;33m=\u001b[0m\u001b[1;34m\"datafiles/encryptedmarks.txt\"\u001b[0m\u001b[1;33m\u001b[0m\u001b[1;33m\u001b[0m\u001b[0m\n\u001b[0;32m     21\u001b[0m \u001b[0mkeyfile\u001b[0m\u001b[1;33m=\u001b[0m\u001b[1;34m\"datafiles/key.txt\"\u001b[0m\u001b[1;33m\u001b[0m\u001b[1;33m\u001b[0m\u001b[0m\n\u001b[1;32m---> 22\u001b[1;33m \u001b[0mdecryptmarksdata\u001b[0m\u001b[1;33m(\u001b[0m\u001b[0mencryptedfile\u001b[0m\u001b[1;33m,\u001b[0m\u001b[0mkeyfile\u001b[0m\u001b[1;33m)\u001b[0m\u001b[1;33m\u001b[0m\u001b[1;33m\u001b[0m\u001b[0m\n\u001b[0m\u001b[0;32m     23\u001b[0m \u001b[1;33m\u001b[0m\u001b[0m\n",
      "\u001b[1;32m<ipython-input-51-ed7e552115eb>\u001b[0m in \u001b[0;36mdecryptmarksdata\u001b[1;34m(encryptedfile, keyfile)\u001b[0m\n\u001b[0;32m     13\u001b[0m             \u001b[0mline\u001b[0m\u001b[1;33m=\u001b[0m\u001b[1;34m\"\"\u001b[0m\u001b[1;33m\u001b[0m\u001b[1;33m\u001b[0m\u001b[0m\n\u001b[0;32m     14\u001b[0m             \u001b[1;32mfor\u001b[0m \u001b[0mdigit\u001b[0m \u001b[1;32min\u001b[0m \u001b[0men\u001b[0m\u001b[1;33m:\u001b[0m\u001b[1;33m\u001b[0m\u001b[1;33m\u001b[0m\u001b[0m\n\u001b[1;32m---> 15\u001b[1;33m                 \u001b[0mline\u001b[0m\u001b[1;33m+=\u001b[0m\u001b[0mnewkey\u001b[0m\u001b[1;33m[\u001b[0m\u001b[0mdigit\u001b[0m\u001b[1;33m]\u001b[0m\u001b[1;33m\u001b[0m\u001b[1;33m\u001b[0m\u001b[0m\n\u001b[0m\u001b[0;32m     16\u001b[0m             \u001b[0mf\u001b[0m\u001b[1;33m.\u001b[0m\u001b[0mwrite\u001b[0m\u001b[1;33m(\u001b[0m\u001b[0mline\u001b[0m \u001b[1;33m+\u001b[0m \u001b[1;34m\"\\n\"\u001b[0m\u001b[1;33m)\u001b[0m\u001b[1;33m\u001b[0m\u001b[1;33m\u001b[0m\u001b[0m\n\u001b[0;32m     17\u001b[0m \u001b[1;33m\u001b[0m\u001b[0m\n",
      "\u001b[1;31mKeyError\u001b[0m: '\\n'"
     ]
    }
   ],
   "source": [
    "def decryptmarksdata(encryptedfile,keyfile):\n",
    "    key=dictkeyfile(keyfile)\n",
    "    newkey={}\n",
    "    for k,v in key.items():\n",
    "        newkey[v]=k\n",
    "    \n",
    "    with open(encryptedfile,\"r\") as f:\n",
    "        encrypteddata=f.read()\n",
    "        #print(encrypteddata)\n",
    "    with open(\"datafiles/originaldata.txt\",\"w\") as f:\n",
    "    \n",
    "        for en in encrypteddata:\n",
    "            line=\"\"\n",
    "            for digit in en:\n",
    "                line+=newkey[digit]\n",
    "            f.write(line + \"\\n\")\n",
    "\n",
    "\n",
    "\n",
    "encryptedfile=\"datafiles/encryptedmarks.txt\"\n",
    "keyfile=\"datafiles/key.txt\"\n",
    "decryptmarksdata(encryptedfile,keyfile)\n",
    "\n"
   ]
  },
  {
   "cell_type": "code",
   "execution_count": null,
   "metadata": {},
   "outputs": [],
   "source": []
  }
 ],
 "metadata": {
  "kernelspec": {
   "display_name": "Python 3",
   "language": "python",
   "name": "python3"
  },
  "language_info": {
   "codemirror_mode": {
    "name": "ipython",
    "version": 3
   },
   "file_extension": ".py",
   "mimetype": "text/x-python",
   "name": "python",
   "nbconvert_exporter": "python",
   "pygments_lexer": "ipython3",
   "version": "3.7.3"
  }
 },
 "nbformat": 4,
 "nbformat_minor": 2
}
