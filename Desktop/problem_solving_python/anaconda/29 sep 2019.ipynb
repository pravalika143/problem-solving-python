{
 "cells": [
  {
   "cell_type": "markdown",
   "metadata": {},
   "source": [
    "# Date:29 sep 2019\n",
    "## File Handling\n",
    "- open\n",
    "- read\n",
    "- write\n",
    "- append\n",
    "- close"
   ]
  },
  {
   "cell_type": "code",
   "execution_count": 6,
   "metadata": {},
   "outputs": [
    {
     "name": "stdout",
     "output_type": "stream",
     "text": [
      "sri padmavathi mahila university.....\n",
      "women university...\n",
      "tirupathi..\n"
     ]
    }
   ],
   "source": [
    "s=open(\"sampledata.txt\",\"r\") # open the file\n",
    "data=s.read() #reading the file\n",
    "print(data)\n",
    "s.close()"
   ]
  },
  {
   "cell_type": "code",
   "execution_count": 7,
   "metadata": {},
   "outputs": [
    {
     "name": "stdout",
     "output_type": "stream",
     "text": [
      "sri padmavathi mahila university.....\n",
      "women university...\n",
      "tirupathi..\n"
     ]
    }
   ],
   "source": [
    "with open(\"sampledata.txt\",\"r\") as f:\n",
    "    data=f.read()\n",
    "    print(data)"
   ]
  },
  {
   "cell_type": "code",
   "execution_count": 26,
   "metadata": {},
   "outputs": [
    {
     "name": "stdout",
     "output_type": "stream",
     "text": [
      "1\n",
      "valli abh\n",
      "yes\n"
     ]
    }
   ],
   "source": [
    "n=int(input())\n",
    "for i in range(n):\n",
    "    s=input().split()\n",
    "    k=[]\n",
    "    for j in s:\n",
    "        k.append(s)\n",
    "    m,h=k\n",
    "    if m==h:\n",
    "        print(\"yes\")\n",
    "    else:\n",
    "        print(\"no\")\n",
    "        \n",
    "    \n",
    "            \n",
    "        "
   ]
  },
  {
   "cell_type": "code",
   "execution_count": 12,
   "metadata": {},
   "outputs": [
    {
     "name": "stdout",
     "output_type": "stream",
     "text": [
      "sri padmavathi mahila university.....\n",
      "women university...\n",
      "tirupathi..\n"
     ]
    }
   ],
   "source": [
    "def readdata(filename):\n",
    "    f=open(filename,\"r\")\n",
    "    data=f.read()\n",
    "    print(data)\n",
    "    f.close()\n",
    "#filename=\"sampledata.txt\"\n",
    "readdata(\"sampledata.txt\")"
   ]
  },
  {
   "cell_type": "code",
   "execution_count": 22,
   "metadata": {},
   "outputs": [],
   "source": [
    "def readdata(filename):\n",
    "    f=open(filename,\"r\")\n",
    "    data=f.read()\n",
    "    print(data)\n",
    "    f.close()\n",
    "    return data\n"
   ]
  },
  {
   "cell_type": "code",
   "execution_count": 23,
   "metadata": {},
   "outputs": [
    {
     "name": "stdout",
     "output_type": "stream",
     "text": [
      "sri padmavathi mahila university.....\n",
      "women university...\n",
      "tirupathi..\n",
      "Sri padmavathi mahila university.....\n",
      "women university...\n",
      "tirupathi..\n"
     ]
    }
   ],
   "source": [
    "print(readdata(\"sampledata.txt\").capitalize())"
   ]
  },
  {
   "cell_type": "code",
   "execution_count": 28,
   "metadata": {},
   "outputs": [
    {
     "name": "stdout",
     "output_type": "stream",
     "text": [
      "hii\n"
     ]
    }
   ],
   "source": [
    "with open(\"text.txt\",\"w\") as f:\n",
    "          f.write(input())\n",
    "          \n",
    "          \n",
    "          \n",
    "          "
   ]
  },
  {
   "cell_type": "code",
   "execution_count": 31,
   "metadata": {},
   "outputs": [
    {
     "name": "stdout",
     "output_type": "stream",
     "text": [
      "2\n",
      "hii\n",
      "gud mrg\n"
     ]
    }
   ],
   "source": [
    "n=int(input())\n",
    "for i in range(n):\n",
    "    with open(\"text.txt\",\"w\") as f:\n",
    "        f.write(input())"
   ]
  },
  {
   "cell_type": "code",
   "execution_count": 56,
   "metadata": {},
   "outputs": [
    {
     "name": "stdout",
     "output_type": "stream",
     "text": [
      "3\n",
      "hii hii\n",
      "gud mrng\n",
      "frnds\n"
     ]
    }
   ],
   "source": [
    "n=int(input())\n",
    "for i in range(n):\n",
    "    with open(\"text.txt\",\"a\") as f:\n",
    "        f.write(input()+\"\\n\")"
   ]
  },
  {
   "cell_type": "code",
   "execution_count": 63,
   "metadata": {},
   "outputs": [
    {
     "name": "stdout",
     "output_type": "stream",
     "text": [
      "hii \n",
      "\n",
      "gud mrng\n",
      "\n",
      "frnds\n",
      "\n"
     ]
    }
   ],
   "source": [
    "with open(\"text.txt\") as f:\n",
    "    data=f.readlines()\n",
    "    for i in data:\n",
    "        print(i)"
   ]
  },
  {
   "cell_type": "code",
   "execution_count": 87,
   "metadata": {},
   "outputs": [
    {
     "name": "stdout",
     "output_type": "stream",
     "text": [
      "3\n"
     ]
    }
   ],
   "source": [
    "with open(\"text.txt\") as f: #no of lines in a file\n",
    "    c=0\n",
    "    data=f.readlines()\n",
    "    for i in data:\n",
    "        c=c+1\n",
    "    print(c)"
   ]
  },
  {
   "cell_type": "code",
   "execution_count": 85,
   "metadata": {},
   "outputs": [
    {
     "name": "stdout",
     "output_type": "stream",
     "text": [
      "['hii pravallika hii\\n', 'gud mrng chinni\\n', 'frnds\\n']\n",
      "41\n"
     ]
    }
   ],
   "source": [
    "with open(\"text.txt\") as f: #count no of character in a file\n",
    "    c=0\n",
    "    data=f.readlines()\n",
    "    print(data)\n",
    "    for i in data:\n",
    "        for j in i:\n",
    "            c=c+1\n",
    "    print(c)"
   ]
  },
  {
   "cell_type": "code",
   "execution_count": 84,
   "metadata": {},
   "outputs": [
    {
     "name": "stdout",
     "output_type": "stream",
     "text": [
      "['hii pravallika hii\\n', 'gud mrng chinni\\n', 'frnds\\n']\n",
      "['hii', 'pravallika', 'hii']\n",
      "['gud', 'mrng', 'chinni']\n",
      "['frnds']\n",
      "7\n"
     ]
    }
   ],
   "source": [
    "with open(\"text.txt\") as f:  # count no of words in a file\n",
    "    c=0\n",
    "    data=f.readlines()\n",
    "    print(data)\n",
    "    for i in data:\n",
    "        print(i.split())\n",
    "        for j in i.split():\n",
    "            c=c+1\n",
    "    print(c)"
   ]
  },
  {
   "cell_type": "code",
   "execution_count": 103,
   "metadata": {},
   "outputs": [
    {
     "name": "stdout",
     "output_type": "stream",
     "text": [
      "['hii pravallika hii\\n', 'gud mrng chinni\\n', 'frnds\\n']\n",
      "2\n",
      "3\n",
      "1\n"
     ]
    }
   ],
   "source": [
    "with open(\"text.txt\") as f:  # count no of words in a file\n",
    "    c=0\n",
    "    data=f.readlines()\n",
    "    print(data)\n",
    "    for i in data:\n",
    "        n=set(i.split())\n",
    "        print(len(n))\n",
    "    \n",
    "    \n",
    "    "
   ]
  },
  {
   "cell_type": "code",
   "execution_count": 104,
   "metadata": {},
   "outputs": [
    {
     "data": {
      "text/plain": [
       "41"
      ]
     },
     "execution_count": 104,
     "metadata": {},
     "output_type": "execute_result"
    }
   ],
   "source": [
    "import os\n",
    "n=os.stat(\"text.txt\")\n",
    "n.st_size"
   ]
  },
  {
   "cell_type": "code",
   "execution_count": null,
   "metadata": {},
   "outputs": [],
   "source": []
  }
 ],
 "metadata": {
  "kernelspec": {
   "display_name": "Python 3",
   "language": "python",
   "name": "python3"
  },
  "language_info": {
   "codemirror_mode": {
    "name": "ipython",
    "version": 3
   },
   "file_extension": ".py",
   "mimetype": "text/x-python",
   "name": "python",
   "nbconvert_exporter": "python",
   "pygments_lexer": "ipython3",
   "version": "3.7.3"
  }
 },
 "nbformat": 4,
 "nbformat_minor": 2
}
